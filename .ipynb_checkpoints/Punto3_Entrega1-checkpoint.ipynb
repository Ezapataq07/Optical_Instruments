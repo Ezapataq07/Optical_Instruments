{
 "cells": [
  {
   "cell_type": "markdown",
   "metadata": {},
   "source": [
    "## Punto b"
   ]
  },
  {
   "cell_type": "code",
   "execution_count": 1,
   "metadata": {},
   "outputs": [
    {
     "ename": "ModuleNotFoundError",
     "evalue": "No module named 'cv2'",
     "output_type": "error",
     "traceback": [
      "\u001b[0;31m---------------------------------------------------------------------------\u001b[0m",
      "\u001b[0;31mModuleNotFoundError\u001b[0m                       Traceback (most recent call last)",
      "\u001b[0;32m/tmp/ipykernel_9251/1816514840.py\u001b[0m in \u001b[0;36m<module>\u001b[0;34m\u001b[0m\n\u001b[1;32m      1\u001b[0m \u001b[0;32mimport\u001b[0m \u001b[0mnumpy\u001b[0m \u001b[0;32mas\u001b[0m \u001b[0mnp\u001b[0m\u001b[0;34m\u001b[0m\u001b[0;34m\u001b[0m\u001b[0m\n\u001b[1;32m      2\u001b[0m \u001b[0;32mimport\u001b[0m \u001b[0mmatplotlib\u001b[0m\u001b[0;34m.\u001b[0m\u001b[0mpyplot\u001b[0m \u001b[0;32mas\u001b[0m \u001b[0mplt\u001b[0m\u001b[0;34m\u001b[0m\u001b[0;34m\u001b[0m\u001b[0m\n\u001b[0;32m----> 3\u001b[0;31m \u001b[0;32mimport\u001b[0m \u001b[0mcv2\u001b[0m\u001b[0;34m\u001b[0m\u001b[0;34m\u001b[0m\u001b[0m\n\u001b[0m\u001b[1;32m      4\u001b[0m \u001b[0mget_ipython\u001b[0m\u001b[0;34m(\u001b[0m\u001b[0;34m)\u001b[0m\u001b[0;34m.\u001b[0m\u001b[0mrun_line_magic\u001b[0m\u001b[0;34m(\u001b[0m\u001b[0;34m'matplotlib'\u001b[0m\u001b[0;34m,\u001b[0m \u001b[0;34m'qt'\u001b[0m\u001b[0;34m)\u001b[0m\u001b[0;34m\u001b[0m\u001b[0;34m\u001b[0m\u001b[0m\n",
      "\u001b[0;31mModuleNotFoundError\u001b[0m: No module named 'cv2'"
     ]
    }
   ],
   "source": [
    "import numpy as np\n",
    "import matplotlib.pyplot as plt\n",
    "import cv2\n",
    "%matplotlib qt"
   ]
  },
  {
   "cell_type": "code",
   "execution_count": 3,
   "metadata": {},
   "outputs": [],
   "source": [
    "def Complex_Plot(matrix,kind,log):\n",
    "  #kind: I=Intensidad, A=Amplitud, P=Fase\n",
    "  plt.figure()\n",
    "  if (kind=='I'):\n",
    "    matrix_to_plot=np.abs(matrix)**2\n",
    "  elif (kind=='A'):\n",
    "    matrix_to_plot=np.abs(matrix)\n",
    "  elif (kind=='P'):\n",
    "     matrix_to_plot=np.angle(matrix)\n",
    "  if (log==1):\n",
    "    plt.imshow(np.log(matrix_to_plot))\n",
    "  elif (log==0):\n",
    "    plt.imshow(matrix_to_plot)\n",
    "  return "
   ]
  },
  {
   "cell_type": "code",
   "execution_count": 70,
   "metadata": {},
   "outputs": [
    {
     "data": {
      "text/plain": [
       "(768, 768)"
      ]
     },
     "execution_count": 70,
     "metadata": {},
     "output_type": "execute_result"
    }
   ],
   "source": [
    "b=cv2.imread('puntob.png',0)\n",
    "plt.figure()\n",
    "plt.imshow(b)\n",
    "plt.show()\n",
    "np.shape(b)"
   ]
  },
  {
   "cell_type": "code",
   "execution_count": 76,
   "metadata": {},
   "outputs": [],
   "source": [
    "fft_b=np.fft.fftshift(np.fft.fftn(b))\n",
    "Complex_Plot(fft_b,'A',1)"
   ]
  },
  {
   "cell_type": "code",
   "execution_count": 77,
   "metadata": {},
   "outputs": [],
   "source": [
    "mask1=np.ones(np.shape(b),dtype=\"uint8\")\n",
    "mask2=np.ones(np.shape(b),dtype=\"uint8\")\n",
    "#coordy=int(np.shape(b)[0]/2) Si quiero poner la máscara en el centro\n",
    "#coordx=int(np.shape(b)[0]/2)\n",
    "cv2.circle(mask1,(396,367),15,0,-1)\n",
    "cv2.circle(mask2,(372,401),15,0,-1)\n",
    "plt.figure()\n",
    "plt.imshow(mask1*mask2)\n",
    "plt.show()"
   ]
  },
  {
   "cell_type": "code",
   "execution_count": 7,
   "metadata": {},
   "outputs": [],
   "source": [
    "plt.figure()\n",
    "plt.imshow(b*mask1*mask2)\n",
    "plt.show()"
   ]
  },
  {
   "cell_type": "code",
   "execution_count": 78,
   "metadata": {},
   "outputs": [],
   "source": [
    "b_filt=np.fft.ifftn(fft_b*mask1*mask2)\n",
    "Complex_Plot(b_filt,'A',0)"
   ]
  },
  {
   "cell_type": "markdown",
   "metadata": {},
   "source": [
    "## Punto C"
   ]
  },
  {
   "cell_type": "code",
   "execution_count": 59,
   "metadata": {},
   "outputs": [
    {
     "data": {
      "text/plain": [
       "(1760, 2800)"
      ]
     },
     "execution_count": 59,
     "metadata": {},
     "output_type": "execute_result"
    }
   ],
   "source": [
    "c=cv2.imread('c.jpg',0)\n",
    "plt.figure()\n",
    "plt.imshow(c)\n",
    "plt.show()\n",
    "np.shape(c)"
   ]
  },
  {
   "cell_type": "code",
   "execution_count": 80,
   "metadata": {},
   "outputs": [
    {
     "data": {
      "text/plain": [
       "(109, 90)"
      ]
     },
     "execution_count": 80,
     "metadata": {},
     "output_type": "execute_result"
    }
   ],
   "source": [
    "back=255*np.ones(np.shape(c),dtype=\"uint8\")\n",
    "c_clue=cv2.imread('c_clue2.jpg',0)\n",
    "for i in range(100,209):\n",
    "    for j in range(100, 190):\n",
    "        back[i][j]=c_clue[i-100][j-100]\n",
    "plt.figure()\n",
    "plt.imshow(back)\n",
    "plt.show()\n",
    "np.shape(c_clue)"
   ]
  },
  {
   "cell_type": "code",
   "execution_count": 11,
   "metadata": {},
   "outputs": [
    {
     "data": {
      "text/plain": [
       "array([255, 255, 255, 255, 255, 255, 255, 255, 255, 255, 255, 255, 255,\n",
       "       255, 255, 255, 255, 255, 255, 255, 255, 255, 255, 255, 254, 254,\n",
       "       255, 255, 255, 255, 252, 255, 255, 255, 251, 255, 251, 255, 255,\n",
       "       255, 255, 252, 255, 255, 254, 255, 255, 255, 255, 255, 253, 254,\n",
       "       255, 255, 250, 255, 255, 255, 255, 255, 254, 254, 255, 255, 255,\n",
       "       255, 255, 255, 255, 255, 255, 255, 255, 255, 255, 254, 254, 255,\n",
       "       255, 255, 255, 255, 255, 255, 255, 255, 255, 255, 255, 255],\n",
       "      dtype=uint8)"
      ]
     },
     "execution_count": 11,
     "metadata": {},
     "output_type": "execute_result"
    }
   ],
   "source": [
    "c_clue[0]"
   ]
  },
  {
   "cell_type": "code",
   "execution_count": 47,
   "metadata": {},
   "outputs": [],
   "source": [
    "fft_c=np.fft.fftshift(np.fft.fftn(c))\n",
    "Complex_Plot(fft_c,'A',1)"
   ]
  },
  {
   "cell_type": "code",
   "execution_count": 63,
   "metadata": {},
   "outputs": [
    {
     "data": {
      "text/plain": [
       "array([[1, 1, 1, ..., 1, 1, 1],\n",
       "       [1, 1, 1, ..., 1, 1, 1],\n",
       "       [1, 1, 1, ..., 1, 1, 1],\n",
       "       ...,\n",
       "       [1, 1, 1, ..., 1, 1, 1],\n",
       "       [1, 1, 1, ..., 1, 1, 1],\n",
       "       [1, 1, 1, ..., 1, 1, 1]], dtype=uint8)"
      ]
     },
     "execution_count": 63,
     "metadata": {},
     "output_type": "execute_result"
    }
   ],
   "source": [
    "fft_c_clue=np.fft.fftshift(np.fft.fftn(back))\n",
    "np.max(np.abs(fft_c_clue))\n",
    "mask_clue=np.ones(np.shape(fft_c_clue),dtype=\"uint8\")\n",
    "coordy=int(np.shape(fft_c_clue)[0]/2)\n",
    "coordx=int(np.shape(fft_c_clue)[1]/2)\n",
    "cv2.circle(mask_clue,(coordx,coordy),200,0,-1)\n",
    "#Complex_Plot(fft_c_clue*mask_clue,'A',1)"
   ]
  },
  {
   "cell_type": "code",
   "execution_count": 28,
   "metadata": {},
   "outputs": [],
   "source": [
    "#for i in range(1760):\n",
    " #   for j in range(2800):\n",
    "  #      if (np.abs(fft_c_clue[i][j])<6000):\n",
    "   #         fft_c_clue[i][j]=1\n",
    "    #    else:\n",
    "     #       fft_c_clue[i][j]=0"
   ]
  },
  {
   "cell_type": "code",
   "execution_count": 64,
   "metadata": {},
   "outputs": [],
   "source": [
    "Complex_Plot(np.fft.ifftn(fft_c_clue*mask_clue),'A',0)"
   ]
  },
  {
   "cell_type": "code",
   "execution_count": 69,
   "metadata": {},
   "outputs": [],
   "source": [
    "c_filtered=np.fft.ifftn(fft_c*np.conjugate(-fft_c_clue))\n",
    "Complex_Plot(c_filtered,'A',1)"
   ]
  },
  {
   "cell_type": "code",
   "execution_count": 17,
   "metadata": {},
   "outputs": [],
   "source": [
    "Complex_Plot(fft_c-fft_c_clue,'A',1)"
   ]
  },
  {
   "cell_type": "code",
   "execution_count": null,
   "metadata": {},
   "outputs": [],
   "source": []
  },
  {
   "cell_type": "code",
   "execution_count": null,
   "metadata": {},
   "outputs": [],
   "source": []
  }
 ],
 "metadata": {
  "kernelspec": {
   "display_name": "Python 3 (ipykernel)",
   "language": "python",
   "name": "python3"
  },
  "language_info": {
   "codemirror_mode": {
    "name": "ipython",
    "version": 3
   },
   "file_extension": ".py",
   "mimetype": "text/x-python",
   "name": "python",
   "nbconvert_exporter": "python",
   "pygments_lexer": "ipython3",
   "version": "3.9.7"
  }
 },
 "nbformat": 4,
 "nbformat_minor": 4
}
